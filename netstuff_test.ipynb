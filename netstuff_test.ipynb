{
 "cells": [
  {
   "cell_type": "code",
   "execution_count": null,
   "metadata": {},
   "outputs": [],
   "source": [
    "import os\n",
    "import pandas as pd\n",
    "import numpy as np\n",
    "import matplotlib.pyplot as plt"
   ]
  },
  {
   "cell_type": "markdown",
   "metadata": {},
   "source": [
    "# Network stuff"
   ]
  },
  {
   "cell_type": "markdown",
   "metadata": {},
   "source": [
    "## IP config"
   ]
  },
  {
   "cell_type": "code",
   "execution_count": null,
   "metadata": {
    "scrolled": false
   },
   "outputs": [],
   "source": [
    "# ip config\n",
    "import netifaces\n",
    "def main():\n",
    "    #print(netifaces.interfaces())\n",
    "\n",
    "    for i in netifaces.interfaces():\n",
    "        try:\n",
    "            # Address\n",
    "            print(\"interface: \", i)\n",
    "            print(\"IPv4: \", netifaces.ifaddresses(i)[netifaces.AF_INET][0]['addr'])\n",
    "            print(\"IPv6: \", netifaces.ifaddresses('{895B4C84-665C-4F54-8583-164E8FCE1E85}')[23][0]['addr'])\n",
    "            print(\"Mask: \", netifaces.ifaddresses(i)[netifaces.AF_INET][0]['netmask'])\n",
    "            print(\"Gateway: \", netifaces.gateways()['default'][netifaces.AF_INET][0])\n",
    "            print(\"broadcast: \", netifaces.ifaddresses(i)[netifaces.AF_INET][0]['broadcast'])\n",
    "            #print(\"interface2: \", netifaces.ifaddresses(i)) # all of it but no presentation\n",
    "            print(\"\\n\")\n",
    "            \n",
    "        except:pass\n",
    "\n",
    "main()"
   ]
  },
  {
   "cell_type": "markdown",
   "metadata": {},
   "source": [
    "## trace rout"
   ]
  },
  {
   "cell_type": "code",
   "execution_count": null,
   "metadata": {},
   "outputs": [],
   "source": [
    "import scapy.layers.inet as sli\n",
    "result, unans = sli.traceroute('8.8.8.8', maxttl=30)\n",
    "print('snd.ttl', '\\t','rcv.src', 'snd.sent_time', 'rcv.time')\n",
    "for snd, rcv in result:   \n",
    "    print(snd.ttl,'\\t', rcv.src,'\\t', snd.sent_time,'\\t', rcv.time)"
   ]
  },
  {
   "cell_type": "markdown",
   "metadata": {},
   "source": [
    "# Get data from HTML websites"
   ]
  },
  {
   "cell_type": "markdown",
   "metadata": {},
   "source": [
    "## wikipedia"
   ]
  },
  {
   "cell_type": "code",
   "execution_count": null,
   "metadata": {},
   "outputs": [],
   "source": [
    "# imports\n",
    "from bs4 import BeautifulSoup\n",
    "import requests"
   ]
  },
  {
   "cell_type": "code",
   "execution_count": null,
   "metadata": {},
   "outputs": [],
   "source": [
    "url=\"https://en.wikipedia.org/wiki/List_of_countries_by_GDP_(nominal)\"\n",
    "\n",
    "html_content = requests.get(url).text\n",
    "soup = BeautifulSoup(html_content, \"lxml\")"
   ]
  },
  {
   "cell_type": "code",
   "execution_count": null,
   "metadata": {},
   "outputs": [],
   "source": [
    "print(soup.title.text)"
   ]
  },
  {
   "cell_type": "code",
   "execution_count": null,
   "metadata": {},
   "outputs": [],
   "source": [
    "#for link in soup.find_all(\"a\"):\n",
    "#    print(\"Inner Text: {}\".format(link.text))\n",
    "#    print(\"Title: {}\".format(link.get(\"title\")))\n",
    "#    print(\"href: {}\".format(link.get(\"href\")))"
   ]
  },
  {
   "cell_type": "code",
   "execution_count": null,
   "metadata": {},
   "outputs": [],
   "source": [
    "gdp_table = soup.find(\"table\", attrs={\"class\": \"wikitable\"})\n",
    "gdp_table_data = gdp_table.tbody.find_all(\"tr\")  # contains 2 rows\n",
    "\n",
    "# Get all the headings of Lists\n",
    "headings = []\n",
    "for td in gdp_table_data[0].find_all(\"td\"):\n",
    "    # remove any newlines and extra spaces from left and right\n",
    "    headings.append(td.b.text.replace('\\n', ' ').strip())\n",
    "\n",
    "print(headings)"
   ]
  },
  {
   "cell_type": "code",
   "execution_count": null,
   "metadata": {},
   "outputs": [],
   "source": [
    "data = {}\n",
    "for table, heading in zip(gdp_table_data[1].find_all(\"table\"), headings):\n",
    "    # Get headers of table i.e., Rank, Country, GDP.\n",
    "    t_headers = []\n",
    "    for th in table.find_all(\"th\"):\n",
    "        # remove any newlines and extra spaces from left and right\n",
    "        t_headers.append(th.text.replace('\\n', ' ').strip())\n",
    "    # Get all the rows of table\n",
    "    table_data = []\n",
    "    for tr in table.tbody.find_all(\"tr\"): # find all tr's from table's tbody\n",
    "        t_row = {}\n",
    "        # Each table row is stored in the form of\n",
    "        # t_row = {'Rank': '', 'Country/Territory': '', 'GDP(US$million)': ''}\n",
    "\n",
    "        # find all td's(3) in tr and zip it with t_header\n",
    "        for td, th in zip(tr.find_all(\"td\"), t_headers): \n",
    "            t_row[th] = td.text.replace('\\n', '').strip()\n",
    "        table_data.append(t_row)\n",
    "\n",
    "    # Put the data for the table with his heading.\n",
    "    data[heading] = table_data\n",
    "\n",
    "#print(data)\n",
    "print(data['Per the International Monetary Fund (2019 estimates)'][2])"
   ]
  },
  {
   "cell_type": "markdown",
   "metadata": {},
   "source": [
    "# request and BeautifulSoup"
   ]
  },
  {
   "cell_type": "code",
   "execution_count": null,
   "metadata": {},
   "outputs": [],
   "source": [
    "# imports\n",
    "from bs4 import BeautifulSoup\n",
    "import requests"
   ]
  },
  {
   "cell_type": "code",
   "execution_count": null,
   "metadata": {},
   "outputs": [],
   "source": [
    "url='http://130.149.129.167/plc/webvisu.htm'\n",
    "\n",
    "html_content = requests.get(url).text\n",
    "soup = BeautifulSoup(html_content, \"html.parser\")\n",
    "print('TITLE : ',soup.title.text)\n",
    "print(1*'\\n')\n",
    "print('FILE :\\n',soup.prettify())"
   ]
  },
  {
   "cell_type": "markdown",
   "metadata": {},
   "source": [
    "# with FTP"
   ]
  },
  {
   "cell_type": "code",
   "execution_count": null,
   "metadata": {},
   "outputs": [],
   "source": [
    "import os\n",
    "import pandas as pd\n",
    "import numpy as np\n",
    "import matplotlib.pyplot as plt"
   ]
  },
  {
   "cell_type": "code",
   "execution_count": null,
   "metadata": {},
   "outputs": [],
   "source": [
    "from ftplib import FTP\n",
    "# https://pythonprogramming.net/ftp-transfers-python-ftplib/\n",
    "\n",
    "\n",
    "\n",
    "#server hostname or IP\n",
    "server_ip='192.168.1.178'\n",
    "\n",
    "#credentials\n",
    "user = 'user'\n",
    "passwd = 'pass'\n",
    "\n",
    "#domain name or server ip:\n",
    "ftp = FTP(server_ip)\n",
    "\n",
    "#login\n",
    "ftp.login(user=user, passwd = passwd)\n",
    "\n",
    "#change current working directory\n",
    "ftp.cwd('s:')\n",
    "\n",
    "#get file names\n",
    "file_names=[]\n",
    "ftp.dir(file_names.append)\n",
    "\n",
    "# remoove unecessary infos\n",
    "file_name_short=[]\n",
    "for fn in file_names:\n",
    "    file=fn.split()[-1]\n",
    "    if file.endswith('.csv'):\n",
    "        file_name_short.append(file)\n",
    "\n",
    "# grab files\n",
    "def grabFile():\n",
    " \n",
    "    localfile = open('data.csv', 'wb')\n",
    "    for file in file_name_short:\n",
    "        ftp.retrbinary('RETR ' + file, localfile.write, 1024)\n",
    "\n",
    "    ftp.quit()\n",
    "    localfile.close()\n",
    "    \n",
    "grabFile()     \n",
    "\n",
    "# close FTP connection\n",
    "ftp.close()"
   ]
  },
  {
   "cell_type": "code",
   "execution_count": null,
   "metadata": {},
   "outputs": [],
   "source": [
    "#import df\n",
    "df=pd.read_csv('data.csv',encoding='latin1',usecols=['No.','Date','Time','T1_Cal','T2_Cal'])\n",
    "\n",
    "#remove the header that is created every day\n",
    "index_remove = [x - 1 for x in list(df.loc[df['No.']=='1',:].index)[1:]]\n",
    "df.drop(index_remove,inplace=True)\n",
    "\n",
    "#reset index\n",
    "df.reset_index(inplace=True)\n",
    "\n",
    "#create timestamp\n",
    "df['DateTime']=df['Date']+' '+ df['Time']\n",
    "df['DateTime']=pd.to_datetime(df.DateTime, format=\"%d.%m.%Y %H:%M:%S\")\n",
    "\n",
    "#drop unecessary stuff\n",
    "df.drop(['No.','index','Date','Time'],axis=1,inplace=True)\n",
    "\n",
    "#convert T1_Cal and T2_Cal as float\n",
    "df[['T1_Cal','T2_Cal']] = df[['T1_Cal','T2_Cal']].astype(float)"
   ]
  },
  {
   "cell_type": "code",
   "execution_count": null,
   "metadata": {
    "scrolled": false
   },
   "outputs": [],
   "source": [
    "#plot result\n",
    "%matplotlib notebook\n",
    "df.set_index('DateTime').iloc[:].plot(figsize=(9,4))\n",
    "plt.ylabel('Temperature °C')\n",
    "plt.xlabel('DateTime')\n",
    "plt.show()"
   ]
  },
  {
   "cell_type": "markdown",
   "metadata": {},
   "source": [
    "# FTP from Pandas"
   ]
  },
  {
   "cell_type": "code",
   "execution_count": null,
   "metadata": {},
   "outputs": [],
   "source": [
    "import os\n",
    "import pandas as pd\n",
    "import numpy as np\n",
    "import matplotlib.pyplot as plt\n",
    "import urllib.request as ur\n",
    "from ftplib import FTP"
   ]
  },
  {
   "cell_type": "code",
   "execution_count": null,
   "metadata": {},
   "outputs": [],
   "source": [
    "def get_file_names(server_ip,user,passwd):\n",
    "    #domain name or server ip:\n",
    "    ftp = FTP(server_ip)\n",
    "\n",
    "    #credentials\n",
    "\n",
    "\n",
    "    #login\n",
    "    ftp.login(user=user, passwd = passwd)\n",
    "\n",
    "    #change current working directory\n",
    "    ftp.cwd('s:')\n",
    "\n",
    "    #get file names\n",
    "    file_names=[]\n",
    "    ftp.dir(file_names.append)\n",
    "\n",
    "    # remoove unecessary infos\n",
    "    file_name_short=[]\n",
    "    for fn in file_names:\n",
    "        file=fn.split()[-1]\n",
    "        if file.endswith('.csv'):\n",
    "            file_name_short.append(file)\n",
    "\n",
    "    ftp.close()\n",
    "    return file_name_short\n",
    "\n",
    "def build_ftp_add(file_names):\n",
    "    base_url=\"ftp://\"\n",
    "    base_url+=user+\":\"\n",
    "    base_url+=passwd+\"@\"\n",
    "    base_url+=server_ip+\"/s:/\"\n",
    "    url=[]\n",
    "    for file in file_names:\n",
    "        url.append(base_url+file)\n",
    "    return url\n",
    "\n",
    "def files_to_df(url):\n",
    "    df =  pd.DataFrame()\n",
    "    for add in url:\n",
    "        req = ur.Request(add)\n",
    "        z_f = ur.urlopen(req)      \n",
    "        df = pd.concat([df,pd.read_csv(z_f,encoding='latin1',usecols=['No.','Date','Time','T1_Cal','T2_Cal'])]) \n",
    "    return df"
   ]
  },
  {
   "cell_type": "code",
   "execution_count": null,
   "metadata": {},
   "outputs": [],
   "source": [
    "#server hostname or IP\n",
    "server_ip='192.168.1.178'\n",
    "\n",
    "#credentials\n",
    "user = 'user'\n",
    "passwd = 'pass'\n",
    "\n",
    "# get file name from server location\n",
    "file_names= get_file_names(server_ip,user,passwd)\n",
    "\n",
    "# build ftp adresses\n",
    "url=build_ftp_add(file_names)\n",
    "\n",
    "# build dataframe with file content\n",
    "df=files_to_df(url)\n",
    "\n"
   ]
  },
  {
   "cell_type": "code",
   "execution_count": null,
   "metadata": {},
   "outputs": [],
   "source": [
    "#reset index\n",
    "df.reset_index(inplace=True)\n",
    "\n",
    "#remove the header that is created every day\n",
    "index_remove = [x - 1 for x in list(df.loc[df['No.']=='1',:].index)[1:]]\n",
    "df.drop(index_remove,inplace=True)\n",
    "\n",
    "\n",
    "\n",
    "#create timestamp\n",
    "df['DateTime']=df['Date']+' '+ df['Time']\n",
    "df['DateTime']=pd.to_datetime(df.DateTime, format=\"%d.%m.%Y %H:%M:%S\")\n",
    "\n",
    "#drop unecessary stuff\n",
    "df.drop(['No.','index','Date','Time'],axis=1,inplace=True)\n",
    "\n",
    "#convert T1_Cal and T2_Cal as float\n",
    "df[['T1_Cal','T2_Cal']] = df[['T1_Cal','T2_Cal']].astype(float)"
   ]
  },
  {
   "cell_type": "code",
   "execution_count": null,
   "metadata": {},
   "outputs": [],
   "source": [
    "#plot result\n",
    "%matplotlib notebook\n",
    "df.set_index('DateTime').iloc[:].plot(figsize=(9,4))\n",
    "plt.ylabel('Temperature °C')\n",
    "plt.xlabel('DateTime')\n",
    "plt.show()"
   ]
  }
 ],
 "metadata": {
  "kernelspec": {
   "display_name": "Python 3",
   "language": "python",
   "name": "python3"
  },
  "language_info": {
   "codemirror_mode": {
    "name": "ipython",
    "version": 3
   },
   "file_extension": ".py",
   "mimetype": "text/x-python",
   "name": "python",
   "nbconvert_exporter": "python",
   "pygments_lexer": "ipython3",
   "version": "3.7.4"
  }
 },
 "nbformat": 4,
 "nbformat_minor": 2
}
