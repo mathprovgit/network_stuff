{
 "cells": [
  {
   "cell_type": "code",
   "execution_count": 1,
   "metadata": {},
   "outputs": [],
   "source": [
    "import os\n",
    "import pandas as pd\n",
    "import numpy as np\n",
    "import matplotlib.pyplot as plt"
   ]
  },
  {
   "cell_type": "markdown",
   "metadata": {},
   "source": [
    "# Network stuff"
   ]
  },
  {
   "cell_type": "markdown",
   "metadata": {},
   "source": [
    "## IP config"
   ]
  },
  {
   "cell_type": "code",
   "execution_count": null,
   "metadata": {
    "scrolled": false
   },
   "outputs": [],
   "source": [
    "# ip config\n",
    "import netifaces\n",
    "def main():\n",
    "    #print(netifaces.interfaces())\n",
    "\n",
    "    for i in netifaces.interfaces():\n",
    "        try:\n",
    "            # Address\n",
    "            print(\"interface: \", i)\n",
    "            print(\"IPv4: \", netifaces.ifaddresses(i)[netifaces.AF_INET][0]['addr'])\n",
    "            print(\"IPv6: \", netifaces.ifaddresses('{895B4C84-665C-4F54-8583-164E8FCE1E85}')[23][0]['addr'])\n",
    "            print(\"Mask: \", netifaces.ifaddresses(i)[netifaces.AF_INET][0]['netmask'])\n",
    "            print(\"Gateway: \", netifaces.gateways()['default'][netifaces.AF_INET][0])\n",
    "            print(\"broadcast: \", netifaces.ifaddresses(i)[netifaces.AF_INET][0]['broadcast'])\n",
    "            #print(\"interface2: \", netifaces.ifaddresses(i)) # all of it but no presentation\n",
    "            print(\"\\n\")\n",
    "            \n",
    "        except:pass\n",
    "\n",
    "main()"
   ]
  },
  {
   "cell_type": "markdown",
   "metadata": {},
   "source": [
    "## trace rout"
   ]
  },
  {
   "cell_type": "code",
   "execution_count": null,
   "metadata": {},
   "outputs": [],
   "source": [
    "import scapy.layers.inet as sli\n",
    "result, unans = sli.traceroute('8.8.8.8', maxttl=30)\n",
    "print('snd.ttl', '\\t','rcv.src', 'snd.sent_time', 'rcv.time')\n",
    "for snd, rcv in result:   \n",
    "    print(snd.ttl,'\\t', rcv.src,'\\t', snd.sent_time,'\\t', rcv.time)"
   ]
  },
  {
   "cell_type": "markdown",
   "metadata": {},
   "source": [
    "# Get data from HTML websites"
   ]
  },
  {
   "cell_type": "markdown",
   "metadata": {},
   "source": [
    "## wikipedia"
   ]
  },
  {
   "cell_type": "code",
   "execution_count": 69,
   "metadata": {},
   "outputs": [],
   "source": [
    "# imports\n",
    "from bs4 import BeautifulSoup\n",
    "import requests"
   ]
  },
  {
   "cell_type": "code",
   "execution_count": null,
   "metadata": {},
   "outputs": [],
   "source": [
    "#url='https://whatismyipaddress.com'\n",
    "url=\"https://en.wikipedia.org/wiki/List_of_countries_by_GDP_(nominal)\"\n",
    "\n",
    "html_content = requests.get(url).text\n",
    "soup = BeautifulSoup(html_content, \"lxml\")"
   ]
  },
  {
   "cell_type": "code",
   "execution_count": 85,
   "metadata": {},
   "outputs": [
    {
     "name": "stdout",
     "output_type": "stream",
     "text": [
      "List of countries by GDP (nominal) - Wikipedia\n"
     ]
    }
   ],
   "source": [
    "print(soup.title.text)"
   ]
  },
  {
   "cell_type": "code",
   "execution_count": 86,
   "metadata": {},
   "outputs": [],
   "source": [
    "#for link in soup.find_all(\"a\"):\n",
    "#    print(\"Inner Text: {}\".format(link.text))\n",
    "#    print(\"Title: {}\".format(link.get(\"title\")))\n",
    "#    print(\"href: {}\".format(link.get(\"href\")))"
   ]
  },
  {
   "cell_type": "code",
   "execution_count": 98,
   "metadata": {},
   "outputs": [
    {
     "name": "stdout",
     "output_type": "stream",
     "text": [
      "['Per the International Monetary Fund (2019 estimates)', 'Per the World Bank (2018)', 'Per the United Nations (2017)']\n"
     ]
    }
   ],
   "source": [
    "gdp_table = soup.find(\"table\", attrs={\"class\": \"wikitable\"})\n",
    "gdp_table_data = gdp_table.tbody.find_all(\"tr\")  # contains 2 rows\n",
    "\n",
    "# Get all the headings of Lists\n",
    "headings = []\n",
    "for td in gdp_table_data[0].find_all(\"td\"):\n",
    "    # remove any newlines and extra spaces from left and right\n",
    "    headings.append(td.b.text.replace('\\n', ' ').strip())\n",
    "\n",
    "print(headings)"
   ]
  },
  {
   "cell_type": "code",
   "execution_count": 108,
   "metadata": {},
   "outputs": [
    {
     "name": "stdout",
     "output_type": "stream",
     "text": [
      "{'Rank': '1', 'Country/Territory': 'United States', 'GDP(US$million)': '21,439,453'}\n"
     ]
    }
   ],
   "source": [
    "data = {}\n",
    "for table, heading in zip(gdp_table_data[1].find_all(\"table\"), headings):\n",
    "    # Get headers of table i.e., Rank, Country, GDP.\n",
    "    t_headers = []\n",
    "    for th in table.find_all(\"th\"):\n",
    "        # remove any newlines and extra spaces from left and right\n",
    "        t_headers.append(th.text.replace('\\n', ' ').strip())\n",
    "    # Get all the rows of table\n",
    "    table_data = []\n",
    "    for tr in table.tbody.find_all(\"tr\"): # find all tr's from table's tbody\n",
    "        t_row = {}\n",
    "        # Each table row is stored in the form of\n",
    "        # t_row = {'Rank': '', 'Country/Territory': '', 'GDP(US$million)': ''}\n",
    "\n",
    "        # find all td's(3) in tr and zip it with t_header\n",
    "        for td, th in zip(tr.find_all(\"td\"), t_headers): \n",
    "            t_row[th] = td.text.replace('\\n', '').strip()\n",
    "        table_data.append(t_row)\n",
    "\n",
    "    # Put the data for the table with his heading.\n",
    "    data[heading] = table_data\n",
    "\n",
    "#print(data)\n",
    "print(data['Per the International Monetary Fund (2019 estimates)'][2])"
   ]
  },
  {
   "cell_type": "markdown",
   "metadata": {},
   "source": [
    "# whatismyipaddress"
   ]
  },
  {
   "cell_type": "code",
   "execution_count": 1,
   "metadata": {},
   "outputs": [],
   "source": [
    "# imports\n",
    "from bs4 import BeautifulSoup\n",
    "import requests"
   ]
  },
  {
   "cell_type": "code",
   "execution_count": 130,
   "metadata": {
    "scrolled": true
   },
   "outputs": [
    {
     "name": "stdout",
     "output_type": "stream",
     "text": [
      "TITLE :  CoDeSys WebVisualization\n",
      "\n",
      "\n",
      "FILE :\n",
      " <html>\n",
      " <head>\n",
      "  <title>\n",
      "   CoDeSys WebVisualization\n",
      "  </title>\n",
      "  <style type=\"text/css\">\n",
      "   /******* basic tags *******/\r\n",
      "\tbody\r\n",
      "\t{\r\n",
      "  \t\tmargin: 0;\r\n",
      "  \t\tpadding: 0;\r\n",
      "\t}\n",
      "  </style>\n",
      " </head>\n",
      " <body>\n",
      "  <applet code=\"webvisu/WebVisu.class\" codebase=\".\" height=\"100%\" id=\"webvisuapplet\" name=\"WebVisu\" width=\"100%\">\n",
      "   <param name=\"archive\" value=\"webvisu.jar,minml.jar\"/>\n",
      "   <param name=\"STARTVISU\" value=\"PLC_VISU\"/>\n",
      "   <param name=\"UPDATETIME\" value=\"100\"/>\n",
      "   <param name=\"USECURRENTVISU\" value=\"FALSE\"/>\n",
      "   <param name=\"USEFIXSOCKETCONNECTION\" value=\"FALSE\"/>\n",
      "   <param name=\"USEURLCONNECTION\" value=\"FALSE\"/>\n",
      "   <param name=\"COMPRESSEDFILES\" value=\"TRUE\"/>\n",
      "  </applet>\n",
      " </body>\n",
      "</html>\n",
      "\n"
     ]
    }
   ],
   "source": [
    "url='http://130.149.129.167/plc/webvisu.htm'\n",
    "\n",
    "html_content = requests.get(url).text\n",
    "soup = BeautifulSoup(html_content, \"html.parser\")\n",
    "print('TITLE : ',soup.title.text)\n",
    "print(1*'\\n')\n",
    "print('FILE :\\n',soup.prettify())"
   ]
  },
  {
   "cell_type": "markdown",
   "metadata": {},
   "source": [
    "# with FTP"
   ]
  },
  {
   "cell_type": "code",
   "execution_count": 10,
   "metadata": {},
   "outputs": [],
   "source": [
    "import os\n",
    "import pandas as pd\n",
    "import numpy as np\n",
    "import matplotlib.pyplot as plt"
   ]
  },
  {
   "cell_type": "code",
   "execution_count": 34,
   "metadata": {},
   "outputs": [],
   "source": [
    "from ftplib import FTP\n",
    "# https://pythonprogramming.net/ftp-transfers-python-ftplib/\n",
    "\n",
    "#domain name or server ip:\n",
    "ftp = FTP('130.149.129.167')\n",
    "\n",
    "user = 'admin'\n",
    "passwd = '***'\n",
    "ftp.login(user=user, passwd = passwd)\n",
    "\n",
    "ftp.cwd('s:')\n",
    "\n",
    "filename='temperature_box_07012020.csv'\n",
    "\n",
    "def grabFile():\n",
    " \n",
    "    localfile = open(filename, 'wb')\n",
    "    ftp.retrbinary('RETR ' + filename, localfile.write, 1024)\n",
    "\n",
    "    ftp.quit()\n",
    "    localfile.close()\n",
    "    \n",
    "grabFile()    "
   ]
  },
  {
   "cell_type": "code",
   "execution_count": 37,
   "metadata": {},
   "outputs": [
    {
     "data": {
      "text/html": [
       "<div>\n",
       "<style scoped>\n",
       "    .dataframe tbody tr th:only-of-type {\n",
       "        vertical-align: middle;\n",
       "    }\n",
       "\n",
       "    .dataframe tbody tr th {\n",
       "        vertical-align: top;\n",
       "    }\n",
       "\n",
       "    .dataframe thead th {\n",
       "        text-align: right;\n",
       "    }\n",
       "</style>\n",
       "<table border=\"1\" class=\"dataframe\">\n",
       "  <thead>\n",
       "    <tr style=\"text-align: right;\">\n",
       "      <th></th>\n",
       "      <th>Date</th>\n",
       "      <th>Time</th>\n",
       "      <th>T1_Cal</th>\n",
       "      <th>T2_Cal</th>\n",
       "    </tr>\n",
       "  </thead>\n",
       "  <tbody>\n",
       "    <tr>\n",
       "      <td>0</td>\n",
       "      <td>07.01.2020</td>\n",
       "      <td>11:19:00</td>\n",
       "      <td>22.25</td>\n",
       "      <td>22.2</td>\n",
       "    </tr>\n",
       "    <tr>\n",
       "      <td>1</td>\n",
       "      <td>07.01.2020</td>\n",
       "      <td>11:20:00</td>\n",
       "      <td>22.15</td>\n",
       "      <td>22.2</td>\n",
       "    </tr>\n",
       "    <tr>\n",
       "      <td>2</td>\n",
       "      <td>07.01.2020</td>\n",
       "      <td>11:21:00</td>\n",
       "      <td>22.05</td>\n",
       "      <td>22.2</td>\n",
       "    </tr>\n",
       "    <tr>\n",
       "      <td>3</td>\n",
       "      <td>07.01.2020</td>\n",
       "      <td>11:22:00</td>\n",
       "      <td>22.15</td>\n",
       "      <td>22.2</td>\n",
       "    </tr>\n",
       "    <tr>\n",
       "      <td>4</td>\n",
       "      <td>07.01.2020</td>\n",
       "      <td>11:23:00</td>\n",
       "      <td>22.15</td>\n",
       "      <td>22.2</td>\n",
       "    </tr>\n",
       "  </tbody>\n",
       "</table>\n",
       "</div>"
      ],
      "text/plain": [
       "         Date      Time  T1_Cal  T2_Cal\n",
       "0  07.01.2020  11:19:00   22.25    22.2\n",
       "1  07.01.2020  11:20:00   22.15    22.2\n",
       "2  07.01.2020  11:21:00   22.05    22.2\n",
       "3  07.01.2020  11:22:00   22.15    22.2\n",
       "4  07.01.2020  11:23:00   22.15    22.2"
      ]
     },
     "execution_count": 37,
     "metadata": {},
     "output_type": "execute_result"
    }
   ],
   "source": [
    "df=pd.read_csv(filename,encoding='latin1',usecols=['Date','Time','T1_Cal','T2_Cal'])\n",
    "df.head()"
   ]
  },
  {
   "cell_type": "code",
   "execution_count": 38,
   "metadata": {
    "scrolled": false
   },
   "outputs": [
    {
     "data": {
      "text/plain": [
       "<matplotlib.axes._subplots.AxesSubplot at 0x2b015e8dcc8>"
      ]
     },
     "execution_count": 38,
     "metadata": {},
     "output_type": "execute_result"
    },
    {
     "data": {
      "image/png": "[encoded data removed]",
      "text/plain": [
       "<Figure size 432x288 with 1 Axes>"
      ]
     },
     "metadata": {
      "needs_background": "light"
     },
     "output_type": "display_data"
    }
   ],
   "source": [
    "df.plot()"
   ]
  },
  {
   "cell_type": "code",
   "execution_count": null,
   "metadata": {},
   "outputs": [],
   "source": []
  }
 ],
 "metadata": {
  "kernelspec": {
   "display_name": "Python 3",
   "language": "python",
   "name": "python3"
  },
  "language_info": {
   "codemirror_mode": {
    "name": "ipython",
    "version": 3
   },
   "file_extension": ".py",
   "mimetype": "text/x-python",
   "name": "python",
   "nbconvert_exporter": "python",
   "pygments_lexer": "ipython3",
   "version": "3.7.4"
  }
 },
 "nbformat": 4,
 "nbformat_minor": 2
}
